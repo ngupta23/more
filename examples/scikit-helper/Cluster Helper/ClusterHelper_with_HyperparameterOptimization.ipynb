{
 "cells": [
  {
   "cell_type": "code",
   "execution_count": 1,
   "metadata": {},
   "outputs": [],
   "source": [
    "import sys\n",
    "sys.path.append(\"C:/Users/Nikhil/Google Drive Work/MyPythonLibraries/more/more\")"
   ]
  },
  {
   "cell_type": "code",
   "execution_count": 2,
   "metadata": {},
   "outputs": [],
   "source": [
    "#import hyperopt_helper.MyObjective as mo\n",
    "import hyperopt_helper as hh\n",
    "import viz_helper as vh\n",
    "from scikit_helper.cluster import KMeansHelper as kmh\n",
    "from scikit_helper.cluster import AgglomerativeHelper as agh"
   ]
  },
  {
   "cell_type": "code",
   "execution_count": 3,
   "metadata": {},
   "outputs": [],
   "source": [
    "from sklearn.cluster import KMeans\n",
    "from sklearn import datasets\n",
    "import pandas as pd"
   ]
  },
  {
   "cell_type": "code",
   "execution_count": 4,
   "metadata": {},
   "outputs": [],
   "source": [
    "import hyperopt\n",
    "import numpy as np\n",
    "\n",
    "def find_best_hyper_params(space, objective, max_evals=100, random_state=None):    \n",
    "    trials = hyperopt.Trials()\n",
    "    best = hyperopt.fmin(\n",
    "                        fn=objective,\n",
    "                        space=space,\n",
    "                        algo=hyperopt.rand.suggest,\n",
    "                        max_evals=max_evals,\n",
    "                        rstate=np.random.RandomState(seed=random_state))\n",
    "    return best\n",
    "\n",
    "def train_best_model(space, objective, max_evals=100, random_state=None):\n",
    "    best = find_best_hyper_params(space, objective, max_evals, random_state)\n",
    "    \n",
    "    # merge subset of hyper-parameters provided by hyperopt with hyper-parameters \n",
    "    # provided by the user\n",
    "    #hyper_params = best\n",
    "    hyper_params = hyperopt.space_eval(space, best)\n",
    "    hyper_params.update(objective._const_params)\n",
    "    \n",
    "    # drop `use_best_model` because we are going to use entire dataset for \n",
    "    # training of the final model\n",
    "    hyper_params.pop('use_best_model', None)\n",
    "    \n",
    "    model = objective.model.set_params(**hyper_params)\n",
    "    model.fit(X)\n",
    "    \n",
    "    return model, hyper_params"
   ]
  },
  {
   "cell_type": "code",
   "execution_count": 5,
   "metadata": {},
   "outputs": [],
   "source": [
    "iris = datasets.load_iris()\n",
    "X = iris.data\n",
    "y = iris.target\n",
    "\n",
    "kmeans = KMeans(n_clusters=8)"
   ]
  },
  {
   "cell_type": "code",
   "execution_count": 6,
   "metadata": {},
   "outputs": [],
   "source": [
    "# Define the parameters that will not change during huperparameter optimization\n",
    "const_params = dict({'init': 'k-means++'\n",
    "                     ,'random_state': 101\n",
    "                     ,'n_jobs': -1\n",
    "                     ,'algorithm': 'auto'\n",
    "                    })"
   ]
  },
  {
   "cell_type": "code",
   "execution_count": 8,
   "metadata": {},
   "outputs": [],
   "source": [
    "# Define the loss function that has to be minimized during hyper parameter optimization.\n",
    "def loss_function (model, X, y):\n",
    "    \"\"\"\n",
    "    loss_function must have 3 arguments for \n",
    "    (1)  Model\n",
    "    (2) X (Features)\n",
    "    (3) y (labels) - Do not have to use this internally for unsupervised problems but needs to be in the argument list\n",
    "    \n",
    "    Also, any libraries used specifically must be imported within this function.\n",
    "    \"\"\"\n",
    "    import sklearn.metrics as mt\n",
    "    model.fit(X)\n",
    "    measure_s = -mt.silhouette_score(X, model.labels_,random_state=101)\n",
    "    \n",
    "    #cv_results = cross_validate(self.model, self.X, self.y, cv=self.cv, scoring = self.scoring)\n",
    "    #return(-np.mean(cv_results['test_AUC'] + cv_results['test_Accuracy']))    \n",
    "    #return(-np.mean(cv_results['test_Silhoutte']))    \n",
    "    \n",
    "    return(measure_s)"
   ]
  },
  {
   "cell_type": "code",
   "execution_count": 9,
   "metadata": {},
   "outputs": [],
   "source": [
    "objective = hh.MyObjective(model = kmeans, X=X, y=None\n",
    "                           ,const_params=const_params \n",
    "                           ,loss_fun=loss_function)"
   ]
  },
  {
   "cell_type": "code",
   "execution_count": 10,
   "metadata": {},
   "outputs": [],
   "source": [
    "space = {'n_clusters': hyperopt.hp.choice('n_clusters', np.arange(3, 11, dtype=int)),\n",
    "         'n_init': hyperopt.hp.choice('n_init', np.arange(10, 100, dtype=int)),\n",
    "         'max_iter': hyperopt.hp.choice('max_iter', np.arange(300, 500, dtype=int)) }"
   ]
  },
  {
   "cell_type": "code",
   "execution_count": 11,
   "metadata": {},
   "outputs": [
    {
     "name": "stdout",
     "output_type": "stream",
     "text": [
      "evaluating params={'max_iter': 472, 'n_clusters': 6, 'n_init': 39, 'init': 'k-means++', 'random_state': 101, 'n_jobs': -1, 'algorithm': 'auto'}\n",
      "Loss=-0.3648340039670018\n",
      "evaluated 1 times\n",
      "evaluating params={'max_iter': 426, 'n_clusters': 5, 'n_init': 62, 'init': 'k-means++', 'random_state': 101, 'n_jobs': -1, 'algorithm': 'auto'}\n",
      "Loss=-0.4887488870931048\n",
      "evaluated 2 times\n",
      "evaluating params={'max_iter': 442, 'n_clusters': 3, 'n_init': 63, 'init': 'k-means++', 'random_state': 101, 'n_jobs': -1, 'algorithm': 'auto'}\n",
      "Loss=-0.5528190123564091\n",
      "evaluated 3 times\n",
      "evaluating params={'max_iter': 309, 'n_clusters': 3, 'n_init': 95, 'init': 'k-means++', 'random_state': 101, 'n_jobs': -1, 'algorithm': 'auto'}\n",
      "Loss=-0.5528190123564091\n",
      "evaluated 4 times\n",
      "evaluating params={'max_iter': 337, 'n_clusters': 7, 'n_init': 61, 'init': 'k-means++', 'random_state': 101, 'n_jobs': -1, 'algorithm': 'auto'}\n",
      "Loss=-0.3568618172536361\n",
      "evaluated 5 times\n",
      "evaluating params={'max_iter': 485, 'n_clusters': 10, 'n_init': 77, 'init': 'k-means++', 'random_state': 101, 'n_jobs': -1, 'algorithm': 'auto'}\n",
      "Loss=-0.30929839432284195\n",
      "evaluated 6 times\n",
      "evaluating params={'max_iter': 440, 'n_clusters': 3, 'n_init': 44, 'init': 'k-means++', 'random_state': 101, 'n_jobs': -1, 'algorithm': 'auto'}\n",
      "Loss=-0.5528190123564091\n",
      "evaluated 7 times\n",
      "evaluating params={'max_iter': 488, 'n_clusters': 4, 'n_init': 54, 'init': 'k-means++', 'random_state': 101, 'n_jobs': -1, 'algorithm': 'auto'}\n",
      "Loss=-0.4980505049972867\n",
      "evaluated 8 times\n",
      "evaluating params={'max_iter': 402, 'n_clusters': 3, 'n_init': 80, 'init': 'k-means++', 'random_state': 101, 'n_jobs': -1, 'algorithm': 'auto'}\n",
      "Loss=-0.5528190123564091\n",
      "evaluated 9 times\n",
      "evaluating params={'max_iter': 394, 'n_clusters': 8, 'n_init': 96, 'init': 'k-means++', 'random_state': 101, 'n_jobs': -1, 'algorithm': 'auto'}\n",
      "Loss=-0.3519340715227998\n",
      "evaluated 10 times\n",
      "evaluating params={'max_iter': 381, 'n_clusters': 5, 'n_init': 58, 'init': 'k-means++', 'random_state': 101, 'n_jobs': -1, 'algorithm': 'auto'}\n",
      "Loss=-0.4887488870931048\n",
      "evaluated 11 times\n",
      "evaluating params={'max_iter': 325, 'n_clusters': 3, 'n_init': 53, 'init': 'k-means++', 'random_state': 101, 'n_jobs': -1, 'algorithm': 'auto'}\n",
      "Loss=-0.5528190123564091\n",
      "evaluated 12 times\n",
      "evaluating params={'max_iter': 301, 'n_clusters': 10, 'n_init': 86, 'init': 'k-means++', 'random_state': 101, 'n_jobs': -1, 'algorithm': 'auto'}\n",
      "Loss=-0.30929839432284195\n",
      "evaluated 13 times\n",
      "evaluating params={'max_iter': 470, 'n_clusters': 8, 'n_init': 79, 'init': 'k-means++', 'random_state': 101, 'n_jobs': -1, 'algorithm': 'auto'}\n",
      "Loss=-0.3519340715227998\n",
      "evaluated 14 times\n",
      "evaluating params={'max_iter': 344, 'n_clusters': 9, 'n_init': 80, 'init': 'k-means++', 'random_state': 101, 'n_jobs': -1, 'algorithm': 'auto'}\n",
      "Loss=-0.3439103447481878\n",
      "evaluated 15 times\n",
      "evaluating params={'max_iter': 400, 'n_clusters': 8, 'n_init': 16, 'init': 'k-means++', 'random_state': 101, 'n_jobs': -1, 'algorithm': 'auto'}\n",
      "Loss=-0.36179003359737993\n",
      "evaluated 16 times\n",
      "evaluating params={'max_iter': 424, 'n_clusters': 9, 'n_init': 80, 'init': 'k-means++', 'random_state': 101, 'n_jobs': -1, 'algorithm': 'auto'}\n",
      "Loss=-0.3439103447481878\n",
      "evaluated 17 times\n",
      "evaluating params={'max_iter': 379, 'n_clusters': 4, 'n_init': 74, 'init': 'k-means++', 'random_state': 101, 'n_jobs': -1, 'algorithm': 'auto'}\n",
      "Loss=-0.4980505049972867\n",
      "evaluated 18 times\n",
      "evaluating params={'max_iter': 445, 'n_clusters': 10, 'n_init': 83, 'init': 'k-means++', 'random_state': 101, 'n_jobs': -1, 'algorithm': 'auto'}\n",
      "Loss=-0.30929839432284195\n",
      "evaluated 19 times\n",
      "evaluating params={'max_iter': 313, 'n_clusters': 3, 'n_init': 58, 'init': 'k-means++', 'random_state': 101, 'n_jobs': -1, 'algorithm': 'auto'}\n",
      "Loss=-0.5528190123564091\n",
      "evaluated 20 times\n",
      "100%|██████████████████████████████████████████████████| 20/20 [00:09<00:00,  4.57it/s, best loss: -0.5528190123564091]\n"
     ]
    }
   ],
   "source": [
    "model, best_params = train_best_model(space=space, objective=objective, max_evals=20, random_state=101)"
   ]
  },
  {
   "cell_type": "code",
   "execution_count": 12,
   "metadata": {},
   "outputs": [
    {
     "data": {
      "text/plain": [
       "{'max_iter': 442,\n",
       " 'n_clusters': 3,\n",
       " 'n_init': 63,\n",
       " 'init': 'k-means++',\n",
       " 'random_state': 101,\n",
       " 'n_jobs': -1,\n",
       " 'algorithm': 'auto'}"
      ]
     },
     "execution_count": 12,
     "metadata": {},
     "output_type": "execute_result"
    }
   ],
   "source": [
    "best_params"
   ]
  },
  {
   "cell_type": "code",
   "execution_count": 13,
   "metadata": {},
   "outputs": [
    {
     "data": {
      "text/plain": [
       "array([[5.9016129 , 2.7483871 , 4.39354839, 1.43387097],\n",
       "       [5.006     , 3.428     , 1.462     , 0.246     ],\n",
       "       [6.85      , 3.07368421, 5.74210526, 2.07105263]])"
      ]
     },
     "execution_count": 13,
     "metadata": {},
     "output_type": "execute_result"
    }
   ],
   "source": [
    "model.cluster_centers_"
   ]
  },
  {
   "cell_type": "code",
   "execution_count": 14,
   "metadata": {},
   "outputs": [],
   "source": [
    "# # Instantiating Hyperopt_helper\n",
    "# hyperopt_helper = hh.HyperoptHelper(space=space, objective=objective, max_evals=20, random_state=101)\n",
    "# model, best_params = hyperopt_helper.train_best_model()\n",
    "# print(best_params)\n",
    "# print(model.cluster_centers_)"
   ]
  },
  {
   "cell_type": "markdown",
   "metadata": {},
   "source": [
    "### Using KMeans Helper Class"
   ]
  },
  {
   "cell_type": "code",
   "execution_count": 15,
   "metadata": {},
   "outputs": [],
   "source": [
    "kmeans = kmh(X=pd.DataFrame(X, columns=iris.feature_names), n_clusters=8, n_jobs=-1, scaled=False\n",
    "             , space = space, const_params=const_params, loss_fun = loss_function)\n"
   ]
  },
  {
   "cell_type": "markdown",
   "metadata": {},
   "source": [
    "##### **Note that we passed**\n",
    "\n",
    "1. the constant hyper parameters, \n",
    "2. hyperparameers search space and \n",
    "3. the desired loss function during the instantiation\n",
    "\n",
    "**These will be used during Bayesian Hyperparameter Optimization**"
   ]
  },
  {
   "cell_type": "code",
   "execution_count": 16,
   "metadata": {},
   "outputs": [
    {
     "name": "stdout",
     "output_type": "stream",
     "text": [
      "evaluating params={'max_iter': 472, 'n_clusters': 6, 'n_init': 39, 'init': 'k-means++', 'random_state': 101, 'n_jobs': -1, 'algorithm': 'auto'}\n",
      "Loss=-0.3648340039670018\n",
      "evaluated 1 times\n",
      "evaluating params={'max_iter': 426, 'n_clusters': 5, 'n_init': 62, 'init': 'k-means++', 'random_state': 101, 'n_jobs': -1, 'algorithm': 'auto'}\n",
      "Loss=-0.4887488870931048\n",
      "evaluated 2 times\n",
      "evaluating params={'max_iter': 442, 'n_clusters': 3, 'n_init': 63, 'init': 'k-means++', 'random_state': 101, 'n_jobs': -1, 'algorithm': 'auto'}\n",
      "Loss=-0.5528190123564091\n",
      "evaluated 3 times\n",
      "evaluating params={'max_iter': 309, 'n_clusters': 3, 'n_init': 95, 'init': 'k-means++', 'random_state': 101, 'n_jobs': -1, 'algorithm': 'auto'}\n",
      "Loss=-0.5528190123564091\n",
      "evaluated 4 times\n",
      "evaluating params={'max_iter': 337, 'n_clusters': 7, 'n_init': 61, 'init': 'k-means++', 'random_state': 101, 'n_jobs': -1, 'algorithm': 'auto'}\n",
      "Loss=-0.3568618172536361\n",
      "evaluated 5 times\n",
      "evaluating params={'max_iter': 485, 'n_clusters': 10, 'n_init': 77, 'init': 'k-means++', 'random_state': 101, 'n_jobs': -1, 'algorithm': 'auto'}\n",
      "Loss=-0.30929839432284195\n",
      "evaluated 6 times\n",
      "evaluating params={'max_iter': 440, 'n_clusters': 3, 'n_init': 44, 'init': 'k-means++', 'random_state': 101, 'n_jobs': -1, 'algorithm': 'auto'}\n",
      "Loss=-0.5528190123564091\n",
      "evaluated 7 times\n",
      "evaluating params={'max_iter': 488, 'n_clusters': 4, 'n_init': 54, 'init': 'k-means++', 'random_state': 101, 'n_jobs': -1, 'algorithm': 'auto'}\n",
      "Loss=-0.4980505049972867\n",
      "evaluated 8 times\n",
      "evaluating params={'max_iter': 402, 'n_clusters': 3, 'n_init': 80, 'init': 'k-means++', 'random_state': 101, 'n_jobs': -1, 'algorithm': 'auto'}\n",
      "Loss=-0.5528190123564091\n",
      "evaluated 9 times\n",
      "evaluating params={'max_iter': 394, 'n_clusters': 8, 'n_init': 96, 'init': 'k-means++', 'random_state': 101, 'n_jobs': -1, 'algorithm': 'auto'}\n",
      "Loss=-0.3519340715227998\n",
      "evaluated 10 times\n",
      "evaluating params={'max_iter': 381, 'n_clusters': 5, 'n_init': 58, 'init': 'k-means++', 'random_state': 101, 'n_jobs': -1, 'algorithm': 'auto'}\n",
      "Loss=-0.4887488870931048\n",
      "evaluated 11 times\n",
      "evaluating params={'max_iter': 325, 'n_clusters': 3, 'n_init': 53, 'init': 'k-means++', 'random_state': 101, 'n_jobs': -1, 'algorithm': 'auto'}\n",
      "Loss=-0.5528190123564091\n",
      "evaluated 12 times\n",
      "evaluating params={'max_iter': 301, 'n_clusters': 10, 'n_init': 86, 'init': 'k-means++', 'random_state': 101, 'n_jobs': -1, 'algorithm': 'auto'}\n",
      "Loss=-0.30929839432284195\n",
      "evaluated 13 times\n",
      "evaluating params={'max_iter': 470, 'n_clusters': 8, 'n_init': 79, 'init': 'k-means++', 'random_state': 101, 'n_jobs': -1, 'algorithm': 'auto'}\n",
      "Loss=-0.3519340715227998\n",
      "evaluated 14 times\n",
      "evaluating params={'max_iter': 344, 'n_clusters': 9, 'n_init': 80, 'init': 'k-means++', 'random_state': 101, 'n_jobs': -1, 'algorithm': 'auto'}\n",
      "Loss=-0.3439103447481878\n",
      "evaluated 15 times\n",
      "evaluating params={'max_iter': 400, 'n_clusters': 8, 'n_init': 16, 'init': 'k-means++', 'random_state': 101, 'n_jobs': -1, 'algorithm': 'auto'}\n",
      "Loss=-0.36179003359737993\n",
      "evaluated 16 times\n",
      "evaluating params={'max_iter': 424, 'n_clusters': 9, 'n_init': 80, 'init': 'k-means++', 'random_state': 101, 'n_jobs': -1, 'algorithm': 'auto'}\n",
      "Loss=-0.3439103447481878\n",
      "evaluated 17 times\n",
      "evaluating params={'max_iter': 379, 'n_clusters': 4, 'n_init': 74, 'init': 'k-means++', 'random_state': 101, 'n_jobs': -1, 'algorithm': 'auto'}\n",
      "Loss=-0.4980505049972867\n",
      "evaluated 18 times\n",
      "evaluating params={'max_iter': 445, 'n_clusters': 10, 'n_init': 83, 'init': 'k-means++', 'random_state': 101, 'n_jobs': -1, 'algorithm': 'auto'}\n",
      "Loss=-0.30929839432284195\n",
      "evaluated 19 times\n",
      "evaluating params={'max_iter': 313, 'n_clusters': 3, 'n_init': 58, 'init': 'k-means++', 'random_state': 101, 'n_jobs': -1, 'algorithm': 'auto'}\n",
      "Loss=-0.5528190123564091\n",
      "evaluated 20 times\n",
      "100%|██████████████████████████████████████████████████| 20/20 [00:04<00:00,  4.57it/s, best loss: -0.5528190123564091]\n",
      "Best Hyperparameters={'max_iter': 442, 'n_clusters': 3, 'n_init': 63, 'init': 'k-means++', 'random_state': 101, 'n_jobs': -1, 'algorithm': 'auto'}\n"
     ]
    },
    {
     "data": {
      "text/plain": [
       "<scikit_helper.cluster.KMeansHelper.KMeansHelper at 0x1ec925eb9b0>"
      ]
     },
     "execution_count": 16,
     "metadata": {},
     "output_type": "execute_result"
    }
   ],
   "source": [
    "kmeans.train_best_model() # Performing Hyperparameter Search using Bayesian Optimization"
   ]
  },
  {
   "cell_type": "code",
   "execution_count": 17,
   "metadata": {},
   "outputs": [
    {
     "data": {
      "text/plain": [
       "{'max_iter': 442,\n",
       " 'n_clusters': 3,\n",
       " 'n_init': 63,\n",
       " 'init': 'k-means++',\n",
       " 'random_state': 101,\n",
       " 'n_jobs': -1,\n",
       " 'algorithm': 'auto'}"
      ]
     },
     "execution_count": 17,
     "metadata": {},
     "output_type": "execute_result"
    }
   ],
   "source": [
    "kmeans.best_params"
   ]
  },
  {
   "cell_type": "code",
   "execution_count": 18,
   "metadata": {},
   "outputs": [
    {
     "data": {
      "text/html": [
       "<div>\n",
       "<style scoped>\n",
       "    .dataframe tbody tr th:only-of-type {\n",
       "        vertical-align: middle;\n",
       "    }\n",
       "\n",
       "    .dataframe tbody tr th {\n",
       "        vertical-align: top;\n",
       "    }\n",
       "\n",
       "    .dataframe thead th {\n",
       "        text-align: right;\n",
       "    }\n",
       "</style>\n",
       "<table border=\"1\" class=\"dataframe\">\n",
       "  <thead>\n",
       "    <tr style=\"text-align: right;\">\n",
       "      <th>labels</th>\n",
       "      <th>0</th>\n",
       "      <th>1</th>\n",
       "      <th>2</th>\n",
       "    </tr>\n",
       "  </thead>\n",
       "  <tbody>\n",
       "    <tr>\n",
       "      <th>sepal length (cm)</th>\n",
       "      <td>5.901613</td>\n",
       "      <td>5.006</td>\n",
       "      <td>6.850000</td>\n",
       "    </tr>\n",
       "    <tr>\n",
       "      <th>sepal width (cm)</th>\n",
       "      <td>2.748387</td>\n",
       "      <td>3.428</td>\n",
       "      <td>3.073684</td>\n",
       "    </tr>\n",
       "    <tr>\n",
       "      <th>petal length (cm)</th>\n",
       "      <td>4.393548</td>\n",
       "      <td>1.462</td>\n",
       "      <td>5.742105</td>\n",
       "    </tr>\n",
       "    <tr>\n",
       "      <th>petal width (cm)</th>\n",
       "      <td>1.433871</td>\n",
       "      <td>0.246</td>\n",
       "      <td>2.071053</td>\n",
       "    </tr>\n",
       "  </tbody>\n",
       "</table>\n",
       "</div>"
      ],
      "text/plain": [
       "labels                    0      1         2\n",
       "sepal length (cm)  5.901613  5.006  6.850000\n",
       "sepal width (cm)   2.748387  3.428  3.073684\n",
       "petal length (cm)  4.393548  1.462  5.742105\n",
       "petal width (cm)   1.433871  0.246  2.071053"
      ]
     },
     "execution_count": 18,
     "metadata": {},
     "output_type": "execute_result"
    }
   ],
   "source": [
    "kmeans.cluster_means()"
   ]
  },
  {
   "cell_type": "code",
   "execution_count": 19,
   "metadata": {},
   "outputs": [
    {
     "data": {
      "image/png": "[encoded data removed]",
      "text/plain": [
       "<Figure size 432x432 with 2 Axes>"
      ]
     },
     "metadata": {
      "needs_background": "light"
     },
     "output_type": "display_data"
    }
   ],
   "source": [
    "kmeans.plot_means_heatmap(annot=True)"
   ]
  },
  {
   "cell_type": "code",
   "execution_count": 20,
   "metadata": {},
   "outputs": [
    {
     "data": {
      "image/png": "[encoded data removed]",
      "text/plain": [
       "<Figure size 432x432 with 2 Axes>"
      ]
     },
     "metadata": {
      "needs_background": "light"
     },
     "output_type": "display_data"
    }
   ],
   "source": [
    "kmeans.plot_elbow_curve(cluster_ranges=[3,4,5,6,7],second_metric='silhoutte',n_jobs=-1)"
   ]
  },
  {
   "cell_type": "markdown",
   "metadata": {},
   "source": [
    "## Using external hyperparameter optimization"
   ]
  },
  {
   "cell_type": "markdown",
   "metadata": {},
   "source": [
    "We can use an external optimization engine (instead of using the internal hyperopt optimization engine). \n",
    "The following section describes how this can be done."
   ]
  },
  {
   "cell_type": "code",
   "execution_count": 21,
   "metadata": {},
   "outputs": [
    {
     "name": "stderr",
     "output_type": "stream",
     "text": [
      "C:\\ProgramData\\Anaconda3\\lib\\site-packages\\sklearn\\externals\\joblib\\__init__.py:15: DeprecationWarning: sklearn.externals.joblib is deprecated in 0.21 and will be removed in 0.23. Please import this functionality directly from joblib, which can be installed with: pip install joblib. If this warning is raised when loading pickled models, you may need to re-serialize those models with scikit-learn 0.21+.\n",
      "  warnings.warn(msg, category=DeprecationWarning)\n"
     ]
    }
   ],
   "source": [
    "from skopt.space import Integer, Categorical, Real\n",
    "from skopt.utils import use_named_args\n",
    "from skopt import gp_minimize\n",
    "import skopt.plots"
   ]
  },
  {
   "cell_type": "code",
   "execution_count": 30,
   "metadata": {},
   "outputs": [],
   "source": [
    "# Preprocessing and Pipeline\n",
    "from sklearn.preprocessing import StandardScaler\n",
    "from sklearn.pipeline import Pipeline\n",
    "from sklearn import metrics as mt\n",
    "\n",
    "# Define the space\n",
    "space = [Integer(3, 100, name='n_clusters')\n",
    "         ,Integer(10, 100, name='n_init')\n",
    "         ,Integer(300, 500, name='max_iter')\n",
    "        ]\n",
    "\n",
    "# Define the objective function (loss function) to be minimized\n",
    "@use_named_args(space)\n",
    "def objective(**params):\n",
    "    kmeans_model = KMeans(init='k-means++',random_state=101,n_jobs=-1,**params)\n",
    "    std_scl = StandardScaler()\n",
    "    piped_object = Pipeline([('scale', std_scl),  # do this\n",
    "                             ('kmeans_model', kmeans_model)]) # and then do this\n",
    "\n",
    "    piped_object.fit(X)\n",
    "    \n",
    "    measure_s = -mt.silhouette_score(X,kmeans_model.labels_,random_state=101)\n",
    "    return (measure_s)"
   ]
  },
  {
   "cell_type": "code",
   "execution_count": 23,
   "metadata": {},
   "outputs": [
    {
     "name": "stdout",
     "output_type": "stream",
     "text": [
      "Iteration No: 1 started. Evaluating function at random point.\n",
      "Iteration No: 1 ended. Evaluation done at random point.\n",
      "Time taken: 0.7526\n",
      "Function value obtained: -0.1563\n",
      "Current minimum: -0.1563\n",
      "Iteration No: 2 started. Evaluating function at random point.\n",
      "Iteration No: 2 ended. Evaluation done at random point.\n",
      "Time taken: 0.1493\n",
      "Function value obtained: -0.5062\n",
      "Current minimum: -0.5062\n",
      "Iteration No: 3 started. Evaluating function at random point.\n",
      "Iteration No: 3 ended. Evaluation done at random point.\n",
      "Time taken: 0.3674\n",
      "Function value obtained: -0.1540\n",
      "Current minimum: -0.5062\n",
      "Iteration No: 4 started. Evaluating function at random point.\n",
      "Iteration No: 4 ended. Evaluation done at random point.\n",
      "Time taken: 0.2433\n",
      "Function value obtained: -0.1144\n",
      "Current minimum: -0.5062\n",
      "Iteration No: 5 started. Evaluating function at random point.\n",
      "Iteration No: 5 ended. Evaluation done at random point.\n",
      "Time taken: 0.1971\n",
      "Function value obtained: -0.3172\n",
      "Current minimum: -0.5062\n",
      "Iteration No: 6 started. Evaluating function at random point.\n",
      "Iteration No: 6 ended. Evaluation done at random point.\n",
      "Time taken: 0.6840\n",
      "Function value obtained: -0.1486\n",
      "Current minimum: -0.5062\n",
      "Iteration No: 7 started. Evaluating function at random point.\n",
      "Iteration No: 7 ended. Evaluation done at random point.\n",
      "Time taken: 0.7697\n",
      "Function value obtained: -0.1359\n",
      "Current minimum: -0.5062\n",
      "Iteration No: 8 started. Evaluating function at random point.\n",
      "Iteration No: 8 ended. Evaluation done at random point.\n",
      "Time taken: 0.6031\n",
      "Function value obtained: -0.1178\n",
      "Current minimum: -0.5062\n",
      "Iteration No: 9 started. Evaluating function at random point.\n",
      "Iteration No: 9 ended. Evaluation done at random point.\n",
      "Time taken: 0.2837\n",
      "Function value obtained: -0.2261\n",
      "Current minimum: -0.5062\n",
      "Iteration No: 10 started. Evaluating function at random point.\n",
      "Iteration No: 10 ended. Evaluation done at random point.\n",
      "Time taken: 1.0239\n",
      "Function value obtained: -0.1691\n",
      "Current minimum: -0.5062\n",
      "Iteration No: 11 started. Searching for the next optimal point.\n",
      "Iteration No: 11 ended. Search finished for the next optimal point.\n",
      "Time taken: 0.5238\n",
      "Function value obtained: -0.5062\n",
      "Current minimum: -0.5062\n",
      "Iteration No: 12 started. Searching for the next optimal point.\n",
      "Iteration No: 12 ended. Search finished for the next optimal point.\n",
      "Time taken: 0.5881\n",
      "Function value obtained: -0.5062\n",
      "Current minimum: -0.5062\n",
      "Iteration No: 13 started. Searching for the next optimal point.\n",
      "Iteration No: 13 ended. Search finished for the next optimal point.\n",
      "Time taken: 1.1857\n",
      "Function value obtained: -0.1896\n",
      "Current minimum: -0.5062\n",
      "Iteration No: 14 started. Searching for the next optimal point.\n",
      "Iteration No: 14 ended. Search finished for the next optimal point.\n",
      "Time taken: 0.7112\n",
      "Function value obtained: -0.5062\n",
      "Current minimum: -0.5062\n",
      "Iteration No: 15 started. Searching for the next optimal point.\n"
     ]
    },
    {
     "name": "stderr",
     "output_type": "stream",
     "text": [
      "C:\\ProgramData\\Anaconda3\\lib\\site-packages\\skopt\\optimizer\\optimizer.py:399: UserWarning: The objective has been evaluated at this point before.\n",
      "  warnings.warn(\"The objective has been evaluated \"\n"
     ]
    },
    {
     "name": "stdout",
     "output_type": "stream",
     "text": [
      "Iteration No: 15 ended. Search finished for the next optimal point.\n",
      "Time taken: 0.5066\n",
      "Function value obtained: -0.5062\n",
      "Current minimum: -0.5062\n",
      "Iteration No: 16 started. Searching for the next optimal point.\n",
      "Iteration No: 16 ended. Search finished for the next optimal point.\n",
      "Time taken: 1.6839\n",
      "Function value obtained: -0.1153\n",
      "Current minimum: -0.5062\n",
      "Iteration No: 17 started. Searching for the next optimal point.\n",
      "Iteration No: 17 ended. Search finished for the next optimal point.\n",
      "Time taken: 0.6384\n",
      "Function value obtained: -0.5062\n",
      "Current minimum: -0.5062\n",
      "Iteration No: 18 started. Searching for the next optimal point.\n",
      "Iteration No: 18 ended. Search finished for the next optimal point.\n",
      "Time taken: 0.6549\n",
      "Function value obtained: -0.2051\n",
      "Current minimum: -0.5062\n",
      "Iteration No: 19 started. Searching for the next optimal point.\n",
      "Iteration No: 19 ended. Search finished for the next optimal point.\n",
      "Time taken: 0.7629\n",
      "Function value obtained: -0.0950\n",
      "Current minimum: -0.5062\n",
      "Iteration No: 20 started. Searching for the next optimal point.\n",
      "Iteration No: 20 ended. Search finished for the next optimal point.\n",
      "Time taken: 0.7379\n",
      "Function value obtained: -0.5062\n",
      "Current minimum: -0.5062\n",
      "Iteration No: 21 started. Searching for the next optimal point.\n"
     ]
    },
    {
     "name": "stderr",
     "output_type": "stream",
     "text": [
      "C:\\ProgramData\\Anaconda3\\lib\\site-packages\\skopt\\optimizer\\optimizer.py:399: UserWarning: The objective has been evaluated at this point before.\n",
      "  warnings.warn(\"The objective has been evaluated \"\n"
     ]
    },
    {
     "name": "stdout",
     "output_type": "stream",
     "text": [
      "Iteration No: 21 ended. Search finished for the next optimal point.\n",
      "Time taken: 0.5688\n",
      "Function value obtained: -0.5062\n",
      "Current minimum: -0.5062\n",
      "Iteration No: 22 started. Searching for the next optimal point.\n"
     ]
    },
    {
     "name": "stderr",
     "output_type": "stream",
     "text": [
      "C:\\ProgramData\\Anaconda3\\lib\\site-packages\\skopt\\optimizer\\optimizer.py:399: UserWarning: The objective has been evaluated at this point before.\n",
      "  warnings.warn(\"The objective has been evaluated \"\n"
     ]
    },
    {
     "name": "stdout",
     "output_type": "stream",
     "text": [
      "Iteration No: 22 ended. Search finished for the next optimal point.\n",
      "Time taken: 0.7821\n",
      "Function value obtained: -0.5062\n",
      "Current minimum: -0.5062\n",
      "Iteration No: 23 started. Searching for the next optimal point.\n",
      "Iteration No: 23 ended. Search finished for the next optimal point.\n",
      "Time taken: 0.6595\n",
      "Function value obtained: -0.2531\n",
      "Current minimum: -0.5062\n",
      "Iteration No: 24 started. Searching for the next optimal point.\n",
      "Iteration No: 24 ended. Search finished for the next optimal point.\n",
      "Time taken: 0.8103\n",
      "Function value obtained: -0.5062\n",
      "Current minimum: -0.5062\n",
      "Iteration No: 25 started. Searching for the next optimal point.\n",
      "Iteration No: 25 ended. Search finished for the next optimal point.\n",
      "Time taken: 0.6993\n",
      "Function value obtained: -0.1787\n",
      "Current minimum: -0.5062\n"
     ]
    }
   ],
   "source": [
    "kmeans_gp = gp_minimize(objective,space\n",
    "                       ,n_random_starts=10 # 10 random points to start \n",
    "                       ,n_calls=25 # pick 25 points total (including n_random_starts) to find optimal combination of hyperparameters\n",
    "                       ,verbose=True, n_jobs=-1, random_state=101)"
   ]
  },
  {
   "cell_type": "code",
   "execution_count": 24,
   "metadata": {},
   "outputs": [
    {
     "name": "stdout",
     "output_type": "stream",
     "text": [
      "Best score: -0.5061527484935536 | Best params: [3, 58, 358]\n"
     ]
    }
   ],
   "source": [
    "print('Best score: {} | Best params: {}'.format(kmeans_gp.fun, kmeans_gp.x))"
   ]
  },
  {
   "cell_type": "code",
   "execution_count": 25,
   "metadata": {},
   "outputs": [
    {
     "data": {
      "text/plain": [
       "array([[<matplotlib.axes._subplots.AxesSubplot object at 0x000001EC902B84E0>,\n",
       "        <matplotlib.axes._subplots.AxesSubplot object at 0x000001EC90312978>,\n",
       "        <matplotlib.axes._subplots.AxesSubplot object at 0x000001EC9025B048>],\n",
       "       [<matplotlib.axes._subplots.AxesSubplot object at 0x000001EC926BAEB8>,\n",
       "        <matplotlib.axes._subplots.AxesSubplot object at 0x000001EC9059A358>,\n",
       "        <matplotlib.axes._subplots.AxesSubplot object at 0x000001EC925EBF98>],\n",
       "       [<matplotlib.axes._subplots.AxesSubplot object at 0x000001EC9049D0B8>,\n",
       "        <matplotlib.axes._subplots.AxesSubplot object at 0x000001EC925FAC50>,\n",
       "        <matplotlib.axes._subplots.AxesSubplot object at 0x000001EC9261B240>]],\n",
       "      dtype=object)"
      ]
     },
     "execution_count": 25,
     "metadata": {},
     "output_type": "execute_result"
    },
    {
     "data": {
      "image/png": "[encoded data removed]",
      "text/plain": [
       "<Figure size 648x648 with 9 Axes>"
      ]
     },
     "metadata": {
      "needs_background": "light"
     },
     "output_type": "display_data"
    }
   ],
   "source": [
    "skopt.plots.plot_objective(kmeans_gp, size=3, dimensions=['n_clusters','n_init','max_iter'])"
   ]
  },
  {
   "cell_type": "markdown",
   "metadata": {},
   "source": [
    "* NOTE that the plot is showing the negative of Silhoutte Score\n",
    "* From the above partial dependence plot, we see that the the maximum Silhoutte score is obrained at n_clusters = 3 (all other paraneters being kept constant) "
   ]
  },
  {
   "cell_type": "code",
   "execution_count": 34,
   "metadata": {},
   "outputs": [
    {
     "name": "stdout",
     "output_type": "stream",
     "text": [
      "{'n_clusters': 3, 'n_init': 58, 'max_iter': 358, 'init': 'k-means++', 'random_state': 101, 'n_jobs': -1, 'algorithm': 'auto'}\n"
     ]
    }
   ],
   "source": [
    "# Prepare model with complete list of \"best\" parameters\n",
    "best_params = {'n_clusters':  kmeans_gp.x[0] \n",
    "              ,'n_init':  kmeans_gp.x[1]\n",
    "              ,'max_iter':  kmeans_gp.x[2]\n",
    "             }\n",
    "best_params.update(const_params)\n",
    "print(best_params)\n",
    "kmeans_best = KMeans(**best_params)"
   ]
  },
  {
   "cell_type": "code",
   "execution_count": 27,
   "metadata": {},
   "outputs": [],
   "source": [
    "# Update helper object with \"best\" model \n",
    "kmeans.set_model(kmeans_best)"
   ]
  },
  {
   "cell_type": "code",
   "execution_count": 28,
   "metadata": {},
   "outputs": [
    {
     "name": "stdout",
     "output_type": "stream",
     "text": [
      "Silhouette Coefficient: 0.5528190123564091\n"
     ]
    }
   ],
   "source": [
    "# Train and evaluate as usual\n",
    "kmeans.train().evaluate_fit()"
   ]
  },
  {
   "cell_type": "code",
   "execution_count": 31,
   "metadata": {},
   "outputs": [
    {
     "data": {
      "image/png": "[encoded data removed]",
      "text/plain": [
       "<Figure size 432x432 with 2 Axes>"
      ]
     },
     "metadata": {
      "needs_background": "light"
     },
     "output_type": "display_data"
    }
   ],
   "source": [
    "kmeans.plot_means_heatmap(annot=True)"
   ]
  },
  {
   "cell_type": "markdown",
   "metadata": {},
   "source": [
    "* We get the same results as that obtained by using the internal Hyperopt method. \n",
    "* Note however that this may not always be the case as the 2 methods (internal hyperopt and external optimization) may return different values of the \"best\" hyperparameters"
   ]
  }
 ],
 "metadata": {
  "kernelspec": {
   "display_name": "Python 3",
   "language": "python",
   "name": "python3"
  },
  "language_info": {
   "codemirror_mode": {
    "name": "ipython",
    "version": 3
   },
   "file_extension": ".py",
   "mimetype": "text/x-python",
   "name": "python",
   "nbconvert_exporter": "python",
   "pygments_lexer": "ipython3",
   "version": "3.6.8"
  }
 },
 "nbformat": 4,
 "nbformat_minor": 2
}
