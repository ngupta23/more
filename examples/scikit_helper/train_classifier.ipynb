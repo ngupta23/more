{
 "cells": [
  {
   "cell_type": "code",
   "execution_count": 1,
   "metadata": {},
   "outputs": [],
   "source": [
    "import pandas as pd\n",
    "from more import pandas_helper\n",
    "from more import scikit_helper as sh"
   ]
  },
  {
   "cell_type": "code",
   "execution_count": 2,
   "metadata": {},
   "outputs": [
    {
     "name": "stdout",
     "output_type": "stream",
     "text": [
      "<class 'pandas.core.frame.DataFrame'>\n",
      "RangeIndex: 891 entries, 0 to 890\n",
      "Data columns (total 12 columns):\n",
      "PassengerId    891 non-null int64\n",
      "Survived       891 non-null int64\n",
      "Pclass         891 non-null int64\n",
      "Name           891 non-null object\n",
      "Sex            891 non-null object\n",
      "Age            714 non-null float64\n",
      "SibSp          891 non-null int64\n",
      "Parch          891 non-null int64\n",
      "Ticket         891 non-null object\n",
      "Fare           891 non-null float64\n",
      "Cabin          204 non-null object\n",
      "Embarked       889 non-null object\n",
      "dtypes: float64(2), int64(5), object(5)\n",
      "memory usage: 83.6+ KB\n"
     ]
    }
   ],
   "source": [
    "df = pd.read_csv(\"../data/titanic/train.csv\")\n",
    "df.info()"
   ]
  },
  {
   "cell_type": "code",
   "execution_count": 3,
   "metadata": {},
   "outputs": [
    {
     "name": "stdout",
     "output_type": "stream",
     "text": [
      "<class 'pandas.core.frame.DataFrame'>\n",
      "Int64Index: 712 entries, 0 to 890\n",
      "Data columns (total 9 columns):\n",
      "Survived      712 non-null int64\n",
      "Pclass        712 non-null int64\n",
      "Age           712 non-null float64\n",
      "SibSp         712 non-null int64\n",
      "Parch         712 non-null int64\n",
      "Fare          712 non-null float64\n",
      "Sex_male      712 non-null uint8\n",
      "Embarked_Q    712 non-null uint8\n",
      "Embarked_S    712 non-null uint8\n",
      "dtypes: float64(2), int64(4), uint8(3)\n",
      "memory usage: 41.0 KB\n"
     ]
    }
   ],
   "source": [
    "# Clean up columns\n",
    "df.helper.drop_columns(['PassengerId','Name','Ticket','Cabin'],inplace=True) \n",
    "df.dropna(inplace=True)\n",
    "\n",
    "# Convert categorical features using one-hot encoding\n",
    "categorical_features = df.select_dtypes(include='object').columns\n",
    "cat_with_dummies = pd.get_dummies(df[categorical_features],drop_first=True)\n",
    "df.helper.drop_columns(categorical_features,inplace=True)\n",
    "df = pd.concat([df,cat_with_dummies],axis=1)\n",
    "\n",
    "df.info()"
   ]
  },
  {
   "cell_type": "code",
   "execution_count": 4,
   "metadata": {},
   "outputs": [],
   "source": [
    "# create features and output objects\n",
    "if 'Survived' in df:\n",
    "    y = df['Survived'].values # get the labels we want\n",
    "    del df['Survived'] # get rid of the class label\n",
    "    X = df.values # use everything else to predict!"
   ]
  },
  {
   "cell_type": "markdown",
   "metadata": {},
   "source": [
    "### Train Classifiers and Visualize Confusion Matrices"
   ]
  },
  {
   "cell_type": "code",
   "execution_count": 5,
   "metadata": {},
   "outputs": [
    {
     "name": "stdout",
     "output_type": "stream",
     "text": [
      "StratifiedShuffleSplit(n_splits=3, random_state=101, test_size=0.2,\n",
      "            train_size=None)\n"
     ]
    }
   ],
   "source": [
    "# Define CV object\n",
    "\n",
    "from sklearn.model_selection import StratifiedShuffleSplit \n",
    "cv_object = StratifiedShuffleSplit(n_splits=3,\n",
    "                         test_size  = 0.2,\n",
    "                         random_state = 101      \n",
    "                        )\n",
    "print(cv_object)"
   ]
  },
  {
   "cell_type": "code",
   "execution_count": 6,
   "metadata": {},
   "outputs": [],
   "source": [
    "# Create scorers to evaluate the models. You can create multiple scorers to evaluate as shown below\n",
    "\n",
    "from sklearn.metrics import f1_score, recall_score, accuracy_score, precision_score, make_scorer\n",
    "scoring = {'Recall (Survived Only)': make_scorer(recall_score, average='binary') # Positive Class Only\n",
    "           ,'F1 (Weighted)': make_scorer(f1_score, average='weighted') # Weighted Score\n",
    "          }            "
   ]
  },
  {
   "cell_type": "code",
   "execution_count": 7,
   "metadata": {},
   "outputs": [],
   "source": [
    "# Create learner\n",
    "\n",
    "from sklearn.preprocessing import StandardScaler\n",
    "from sklearn.linear_model import SGDClassifier\n",
    "from sklearn.pipeline import Pipeline\n",
    "\n",
    "std_scl = StandardScaler()\n",
    "svm_sgd = SGDClassifier(random_state=101)\n",
    "\n",
    "piped_object = Pipeline([('scale', std_scl),  # do this\n",
    "                         ('svm_model', svm_sgd)]) # and then do this"
   ]
  },
  {
   "cell_type": "code",
   "execution_count": 8,
   "metadata": {},
   "outputs": [
    {
     "name": "stdout",
     "output_type": "stream",
     "text": [
      "confusion matrix\n",
      " [[78  7]\n",
      " [41 17]]\n",
      "              precision    recall  f1-score   support\n",
      "\n",
      "           0       0.66      0.92      0.76        85\n",
      "           1       0.71      0.29      0.41        58\n",
      "\n",
      "    accuracy                           0.66       143\n",
      "   macro avg       0.68      0.61      0.59       143\n",
      "weighted avg       0.68      0.66      0.62       143\n",
      "\n",
      "confusion matrix\n",
      " [[76  9]\n",
      " [25 33]]\n",
      "              precision    recall  f1-score   support\n",
      "\n",
      "           0       0.75      0.89      0.82        85\n",
      "           1       0.79      0.57      0.66        58\n",
      "\n",
      "    accuracy                           0.76       143\n",
      "   macro avg       0.77      0.73      0.74       143\n",
      "weighted avg       0.77      0.76      0.75       143\n",
      "\n",
      "confusion matrix\n",
      " [[71 14]\n",
      " [17 41]]\n",
      "              precision    recall  f1-score   support\n",
      "\n",
      "           0       0.81      0.84      0.82        85\n",
      "           1       0.75      0.71      0.73        58\n",
      "\n",
      "    accuracy                           0.78       143\n",
      "   macro avg       0.78      0.77      0.77       143\n",
      "weighted avg       0.78      0.78      0.78       143\n",
      "\n"
     ]
    }
   ],
   "source": [
    "# Train Classifier without ploting\n",
    "sh.train_classifier(estimator=piped_object, X=X, y=y, cv=cv_object)"
   ]
  },
  {
   "cell_type": "code",
   "execution_count": 9,
   "metadata": {},
   "outputs": [
    {
     "name": "stdout",
     "output_type": "stream",
     "text": [
      "confusion matrix\n",
      " [[78  7]\n",
      " [41 17]]\n",
      "              precision    recall  f1-score   support\n",
      "\n",
      "           0       0.66      0.92      0.76        85\n",
      "           1       0.71      0.29      0.41        58\n",
      "\n",
      "    accuracy                           0.66       143\n",
      "   macro avg       0.68      0.61      0.59       143\n",
      "weighted avg       0.68      0.66      0.62       143\n",
      "\n"
     ]
    },
    {
     "data": {
      "image/png": "[encoded data removed]",
      "text/plain": [
       "<Figure size 432x288 with 2 Axes>"
      ]
     },
     "metadata": {
      "needs_background": "light"
     },
     "output_type": "display_data"
    },
    {
     "name": "stdout",
     "output_type": "stream",
     "text": [
      "confusion matrix\n",
      " [[76  9]\n",
      " [25 33]]\n",
      "              precision    recall  f1-score   support\n",
      "\n",
      "           0       0.75      0.89      0.82        85\n",
      "           1       0.79      0.57      0.66        58\n",
      "\n",
      "    accuracy                           0.76       143\n",
      "   macro avg       0.77      0.73      0.74       143\n",
      "weighted avg       0.77      0.76      0.75       143\n",
      "\n"
     ]
    },
    {
     "data": {
      "image/png": "[encoded data removed]",
      "text/plain": [
       "<Figure size 432x288 with 2 Axes>"
      ]
     },
     "metadata": {
      "needs_background": "light"
     },
     "output_type": "display_data"
    },
    {
     "name": "stdout",
     "output_type": "stream",
     "text": [
      "confusion matrix\n",
      " [[71 14]\n",
      " [17 41]]\n",
      "              precision    recall  f1-score   support\n",
      "\n",
      "           0       0.81      0.84      0.82        85\n",
      "           1       0.75      0.71      0.73        58\n",
      "\n",
      "    accuracy                           0.78       143\n",
      "   macro avg       0.78      0.77      0.77       143\n",
      "weighted avg       0.78      0.78      0.78       143\n",
      "\n"
     ]
    },
    {
     "data": {
      "image/png": "[encoded data removed]",
      "text/plain": [
       "<Figure size 432x288 with 2 Axes>"
      ]
     },
     "metadata": {
      "needs_background": "light"
     },
     "output_type": "display_data"
    }
   ],
   "source": [
    "# Train Classifier with ploting (Verbose = True)\n",
    "sh.train_classifier(estimator=piped_object, X=X, y=y, cv=cv_object,verbose=True)"
   ]
  }
 ],
 "metadata": {
  "kernelspec": {
   "display_name": "Python 3",
   "language": "python",
   "name": "python3"
  },
  "language_info": {
   "codemirror_mode": {
    "name": "ipython",
    "version": 3
   },
   "file_extension": ".py",
   "mimetype": "text/x-python",
   "name": "python",
   "nbconvert_exporter": "python",
   "pygments_lexer": "ipython3",
   "version": "3.6.8"
  }
 },
 "nbformat": 4,
 "nbformat_minor": 2
}
